from zipfile import ZipFile


'''
Data: Abstract Scenes (same as v1.0 release)

'''

##Training annotations 2015 v1.0
##600,000 answers
!pip download https://s3.amazonaws.com/cvmlp/vqa/abstract_v002/vqa/Annotations_Train_abstract_v002.zip

with ZipFile('Annotations_Train_abstract_v002.zip', 'r') as zf:
    zf.extractall('Data/Annotations/')

##Validation annotations 2015 v1.0
##300,000 answers
!pip download https://s3.amazonaws.com/cvmlp/vqa/abstract_v002/vqa/Annotations_Val_abstract_v002.zip
with ZipFile('Annotations_Val_abstract_v002.zip', 'r') as zf:
    zf.extractall('Data/Annotations/')

##Training questions 2015 v1.0
##60,000 questions
!pip download https://s3.amazonaws.com/cvmlp/vqa/abstract_v002/vqa/Questions_Train_abstract_v002.zip
with ZipFile('Questions_Train_abstract_v002.zip', 'r') as zf:
    zf.extractall('Data/Questions/')

##Validation questions 2015 v1.0
##30,000 questions
!pip download https://s3.amazonaws.com/cvmlp/vqa/abstract_v002/vqa/Questions_Val_abstract_v002.zip
with ZipFile('Questions_Val_abstract_v002.zip', 'r') as zf:
    zf.extractall('Data/Questions/')

##Testing questions 2015 v1.0
##60,000 questions
!pip download https://s3.amazonaws.com/cvmlp/vqa/abstract_v002/vqa/Questions_Test_abstract_v002.zip
with ZipFile('Questions_Test_abstract_v002.zip', 'r') as zf:
    zf.extractall('Data/Questions/')

##Training images
##20,000 images
!pip download https://s3.amazonaws.com/cvmlp/vqa/abstract_v002/scene_img/scene_img_abstract_v002_train2015.zip
with ZipFile('scene_img_abstract_v002_train2015.zip', 'r') as zf:
    zf.extractall('Data/Images/scene_img_abstract_v002_train2015/')

##Validation images
##10,000 images
!pip download https://s3.amazonaws.com/cvmlp/vqa/abstract_v002/scene_img/scene_img_abstract_v002_val2015.zip
with ZipFile('scene_img_abstract_v002_val2015.zip', 'r') as zf:
    zf.extractall('Data/Images/scene_img_abstract_v002_val2015/')

##Testing images
##20,000 images
!pip download https://s3.amazonaws.com/cvmlp/vqa/abstract_v002/scene_img/scene_img_abstract_v002_test2015.zip
with ZipFile('scene_img_abstract_v002_test2015.zip', 'r') as zf:
    zf.extractall('Data/Images/scene_img_abstract_v002_test2015/')
